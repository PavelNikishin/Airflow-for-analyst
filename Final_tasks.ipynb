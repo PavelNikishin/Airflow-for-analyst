{
  "nbformat": 4,
  "nbformat_minor": 0,
  "metadata": {
    "colab": {
      "provenance": [],
      "include_colab_link": true
    },
    "kernelspec": {
      "name": "python3",
      "display_name": "Python 3"
    },
    "language_info": {
      "name": "python"
    }
  },
  "cells": [
    {
      "cell_type": "markdown",
      "metadata": {
        "id": "view-in-github",
        "colab_type": "text"
      },
      "source": [
        "<a href=\"https://colab.research.google.com/github/PavelNikishin/Airflow-for-analyst/blob/main/Final_tasks.ipynb\" target=\"_parent\"><img src=\"https://colab.research.google.com/assets/colab-badge.svg\" alt=\"Open In Colab\"/></a>"
      ]
    },
    {
      "cell_type": "markdown",
      "metadata": {
        "id": "dKVsSmoLVx81"
      },
      "source": [
        "### Настройка окружения\n",
        "\n",
        "Для начала вам необходимо выполнить ряд команд чтобы настроить окружение для дальнейшей работы, это позволит первое время не заниматься долгим деплоем, а сразу начать писать код и работать с airflow."
      ]
    },
    {
      "cell_type": "code",
      "metadata": {
        "id": "VHHKEJQSVn9G"
      },
      "source": [
        "# Установка Airflow\n",
        "!pip install apache-airflow==2.5.3 # 2.1.4 \n",
        "!pip install pyngrok\n",
        "\n",
        "!airflow db init\n",
        "\n",
        "# Создадим необходимые папки\n",
        "!mkdir /root/airflow/dags\n",
        "!touch /root/airflow/dags/dag.py"
      ],
      "execution_count": null,
      "outputs": []
    },
    {
      "cell_type": "code",
      "metadata": {
        "id": "3D_wVrfCzkIG"
      },
      "source": [
        "# Включим веб-сервер\n",
        "!airflow webserver -p 18273 -D\n",
        "\n",
        "# Создадим пользователя Airflow\n",
        "!airflow users create \\\n",
        "          --username admin \\\n",
        "          --firstname admin \\\n",
        "          --lastname admin \\\n",
        "          --role Admin \\\n",
        "          --email admin@example.org \\\n",
        "          -p 12345\n",
        "\n",
        "# Запуск шедулера\n",
        "!airflow scheduler -D\n",
        "\n",
        "#ngrok authtoken <YOUR TOKEN> # найти его можно https://dashboard.ngrok.com/get-started/setup \n",
        "\n",
        "!nohup ngrok http 18273 > /dev/null &"
      ],
      "execution_count": null,
      "outputs": []
    },
    {
      "cell_type": "markdown",
      "source": [
        "# 6.1 BashOperator "
      ],
      "metadata": {
        "id": "krn1TcpJA9vH"
      }
    },
    {
      "cell_type": "markdown",
      "source": [
        "Используя BashOperator написать команду которая будет чистить папку с логами Airflow. Подсказка, хватит простого rm. В ответе прислать полный код дага."
      ],
      "metadata": {
        "id": "m34jpaGwj1_G"
      }
    },
    {
      "cell_type": "code",
      "source": [
        "from airflow import DAG\n",
        "from airflow.operators.bash import BashOperator\n",
        "from airflow.utils.dates import days_ago\n",
        "\n",
        "with DAG('dag', schedule_interval='@daily', start_date=days_ago(1)) as dag: \n",
        "\n",
        "    cli_command = BashOperator(\n",
        "        task_id=\"bash_command\",\n",
        "        bash_command=\"rm -r /root/airflow/logs/ \")"
      ],
      "metadata": {
        "id": "SJZSpy2TA6TV"
      },
      "execution_count": null,
      "outputs": []
    },
    {
      "cell_type": "markdown",
      "source": [
        "# 6.2 SimpleHttpOperator "
      ],
      "metadata": {
        "id": "ofNZ2e7SWxk3"
      }
    },
    {
      "cell_type": "markdown",
      "source": [
        "Используя SimpleHttpOperator обратиться по адресу\n",
        "\n",
        "https://www.random.org/integers/?num=1&min=1&max=5&col=1&base=2&format=plain \n",
        "\n",
        "и записать результат в xcom. Подсказка, нужно прописать адрес в http_conn_id, а путь подключения в поле endpoint. В ответе прислать полный код дага."
      ],
      "metadata": {
        "id": "6j8aNXzwjvU3"
      }
    },
    {
      "cell_type": "code",
      "source": [
        "!airflow connections add 'random' \\\n",
        "    --conn-type 'HTTP' \\\n",
        "    --conn-host 'https://www.random.org/'"
      ],
      "metadata": {
        "id": "rvkFvY7Ue2Qb"
      },
      "execution_count": null,
      "outputs": []
    },
    {
      "cell_type": "code",
      "source": [
        "# used airflow==2.5.3\n",
        "from airflow import DAG\n",
        "from airflow.providers.http.operators.http import SimpleHttpOperator\n",
        "from pendulum import today\n",
        "\n",
        "with DAG('dag', schedule='@daily', start_date=today('UTC').add(days=-1)) as dag: \n",
        "\n",
        "    task_get_op = SimpleHttpOperator(\n",
        "        task_id=\"get_op\",\n",
        "        method=\"GET\",\n",
        "        http_conn_id='random',\n",
        "        endpoint=\"integers/?num=1&min=1&max=5&col=1&base=2&format=plain\",\n",
        "        dag=dag)"
      ],
      "metadata": {
        "id": "oDWTpBNXA6Qi"
      },
      "execution_count": null,
      "outputs": []
    },
    {
      "cell_type": "markdown",
      "source": [
        "# 6.3 Пуш в Xcom  "
      ],
      "metadata": {
        "id": "1V0N9cxXe67U"
      }
    },
    {
      "cell_type": "markdown",
      "source": [
        "Ваше задание переопределить стандартный оператор Dummy так чтобы он пушил в Xcom случайное число от 0 до 9."
      ],
      "metadata": {
        "id": "xlys4mbAjp9F"
      }
    },
    {
      "cell_type": "code",
      "source": [
        "from airflow import DAG\n",
        "from datetime import timedelta\n",
        "from airflow.utils.dates import days_ago\n",
        "from airflow.models import BaseOperator\n",
        "from random import randint\n",
        "\n",
        "class DummyOperator(BaseOperator):\n",
        "\n",
        "    ui_color = '#e8f7e4'\n",
        "    #inherits_from_dummy_operator = True\n",
        "\n",
        "    def __init__(self, **kwargs) -> None:\n",
        "        super().__init__(**kwargs)\n",
        "\n",
        "    def execute(self, context):\n",
        "        # ВАШ КОД\n",
        "        return randint(0,9)\n",
        "\n",
        "dag = DAG('dag',schedule_interval='@daily', start_date=days_ago(1))\n",
        "t1 = DummyOperator(task_id='task_1', dag=dag)\n",
        "t2 = DummyOperator(task_id='task_2',dag=dag)\n",
        "\n",
        "t1 >> t2"
      ],
      "metadata": {
        "id": "nEa57-dWe6WJ"
      },
      "execution_count": null,
      "outputs": []
    },
    {
      "cell_type": "markdown",
      "source": [
        "# 6.4 Connections и Variables"
      ],
      "metadata": {
        "id": "OFVoHR7fjaE1"
      }
    },
    {
      "cell_type": "code",
      "source": [
        "!airflow connections add 'custom_conn_id' \\\n",
        "    --conn-type 'HTTP' \\\n",
        "    --conn-host 'google.com' \\\n",
        "    --conn-login  'user' \\\n",
        "    --conn-password  '12345'"
      ],
      "metadata": {
        "id": "JfPp1qPfWJfM"
      },
      "execution_count": null,
      "outputs": []
    },
    {
      "cell_type": "code",
      "source": [
        "# used airflow==2.5.3\n",
        "from airflow import DAG\n",
        "from airflow.decorators import task\n",
        "from airflow.hooks.base import BaseHook\n",
        "from airflow.models import Variable\n",
        "from pendulum import today\n",
        "\n",
        "with DAG('dag', schedule='@daily', start_date=today('UTC').add(days=-1)) as dag: \n",
        "\n",
        "    @task.python(task_id='conn_to_variables')\n",
        "    def conn_to_variables(conn_id: str):\n",
        "        c = BaseHook.get_connection(conn_id)\n",
        "        Variable.set(key='host', value=c.host, serialize_json=True)\n",
        "        Variable.set(key='login', value=c.login, serialize_json=True)\n",
        "        Variable.set(key='password', value=c.password, serialize_json=True)\n",
        "\n",
        "    conn_to_variables('custom_conn_id')    "
      ],
      "metadata": {
        "id": "U3lm7NOue6T_"
      },
      "execution_count": null,
      "outputs": []
    },
    {
      "cell_type": "code",
      "source": [
        "!airflow variables get password"
      ],
      "metadata": {
        "colab": {
          "base_uri": "https://localhost:8080/"
        },
        "id": "m7eamWuCe6RR",
        "outputId": "f2ac0428-d31b-4106-d181-31a2a2d41a78"
      },
      "execution_count": null,
      "outputs": [
        {
          "output_type": "stream",
          "name": "stdout",
          "text": [
            "\"12345\"\n"
          ]
        }
      ]
    },
    {
      "cell_type": "markdown",
      "source": [
        "# 6.5 HttpSensor "
      ],
      "metadata": {
        "id": "GBe7CDeKkJ5q"
      }
    },
    {
      "cell_type": "markdown",
      "source": [
        "Используя HttpSensor и код ниже обратиться по адресу\n",
        "\n",
        "https://www.random.org/integers/?num=1&min=1&max=5&col=1&base=10&format=plain\n",
        "\n",
        "Если ответ будет равен 5 то вернуть True чтобы сенсор завершился, также добавить параметр окончания действия сенсора 1 минутой"
      ],
      "metadata": {
        "id": "3G8GTuBqkOmw"
      }
    },
    {
      "cell_type": "code",
      "source": [
        "!airflow connections delete 'http_default' \n",
        "!airflow connections add 'http_default' \\\n",
        "    --conn-type 'HTTP' \\\n",
        "    --conn-host 'https://www.random.org/'"
      ],
      "metadata": {
        "id": "QLl9G49IzGTq"
      },
      "execution_count": null,
      "outputs": []
    },
    {
      "cell_type": "code",
      "source": [
        "import airflow\n",
        "from airflow import DAG\n",
        "from airflow.sensors.http_sensor import HttpSensor\n",
        "\n",
        "dag = DAG('dag',schedule_interval='@daily', start_date=airflow.utils.dates.days_ago(1),)\n",
        "\n",
        "def response_check(response, task_instance):\n",
        "    #print(response.status_code, response.text)\n",
        "    if response.status_code == 200:\n",
        "        if int(response.text) == 5:\n",
        "            return True\n",
        "        else:\n",
        "            return False\n",
        "    else:\n",
        "        return False\n",
        "    \n",
        "sensor = HttpSensor(\n",
        "    task_id='http_sensor',\n",
        "    http_conn_id='http_default',\n",
        "    endpoint='integers/?num=1&min=1&max=5&col=1&base=10&format=plain',\n",
        "    response_check=response_check,\n",
        "    poke_interval=10,\n",
        "    timeout=60,\n",
        "    dag=dag)"
      ],
      "metadata": {
        "id": "teu6iak5e6LV"
      },
      "execution_count": null,
      "outputs": []
    },
    {
      "cell_type": "markdown",
      "source": [
        "# 6.6 Сгенерировать 5 DAG"
      ],
      "metadata": {
        "id": "yXb0qyOnXcjg"
      }
    },
    {
      "cell_type": "markdown",
      "source": [
        "Сгенерировать 5 DAG таким образом чтобы в каждом DAG генерировалось по 10 Task идущих параллельно. Использовать DummyOperator для задач. Имена DAG выбрать по такому шаблону dag_number."
      ],
      "metadata": {
        "id": "QJhaOcBYXmZd"
      }
    },
    {
      "cell_type": "code",
      "source": [
        "# used airflow==2.5.3\n",
        "from airflow import DAG\n",
        "from airflow.decorators import task\n",
        "from airflow.operators.dummy_operator import DummyOperator\n",
        "from pendulum import today\n",
        "\n",
        "def create_dag(dag_id, default_args):\n",
        "  \n",
        "    with DAG(dag_id, default_args=default_args) as dag: \n",
        "\n",
        "        for n in range(1, 11):\n",
        "\n",
        "            DummyOperator(task_id=f'task_{n}')\n",
        "\n",
        "    return dag\n",
        "\n",
        "# build a dag for each number in range\n",
        "for n in range(1, 6):\n",
        "    dag_id = f'dag_{n}'\n",
        "\n",
        "    default_args = {'owner': 'airflow',\n",
        "                    'start_date': today('UTC').add(days=-1),\n",
        "                    'schedule': '@daily'}\n",
        "\n",
        "    globals()[dag_id] = create_dag(dag_id, default_args)"
      ],
      "metadata": {
        "id": "zQ29KTQve6IY"
      },
      "execution_count": null,
      "outputs": []
    }
  ]
}